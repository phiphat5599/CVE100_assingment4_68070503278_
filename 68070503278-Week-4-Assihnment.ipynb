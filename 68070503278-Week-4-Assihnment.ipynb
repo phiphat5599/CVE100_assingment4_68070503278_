{
 "cells": [
  {
   "cell_type": "code",
   "execution_count": 2,
   "id": "608ff48c",
   "metadata": {},
   "outputs": [
    {
     "name": "stdout",
     "output_type": "stream",
     "text": [
      "1 is odd.\n",
      "2 is even.\n",
      "3 is odd.\n",
      "4 is even.\n",
      "5 is odd.\n",
      "6 is even.\n"
     ]
    }
   ],
   "source": [
    "n = 7\n",
    "for i in range(1,n):\n",
    "    if i % 2 == 0:\n",
    "        print(i, \"is even.\")\n",
    "    else:\n",
    "        print(i, \"is odd.\")"
   ]
  },
  {
   "cell_type": "code",
   "execution_count": 3,
   "id": "c68d6015",
   "metadata": {},
   "outputs": [
    {
     "name": "stdout",
     "output_type": "stream",
     "text": [
      "The result is large\n",
      "The result is large\n",
      "The result is large\n",
      "The result is large\n",
      "The result is large\n",
      "The result is large\n",
      "The result is large\n",
      "The result is large\n",
      "The result is large\n",
      "The result is large\n"
     ]
    }
   ],
   "source": [
    "n = 100\n",
    "for i in range(1,11):\n",
    "    quotient = n / i\n",
    "    if quotient > 5:\n",
    "        print(\"The result is large\")\n",
    "    elif quotient == 6:\n",
    "        continue\n",
    "    else:\n",
    "        print(\"quotient=\",quotient)"
   ]
  },
  {
   "cell_type": "code",
   "execution_count": 4,
   "id": "ebd45413",
   "metadata": {},
   "outputs": [
    {
     "name": "stdout",
     "output_type": "stream",
     "text": [
      "incorrect password\n"
     ]
    }
   ],
   "source": [
    "username = input(\"Enter username\")\n",
    "password = input(\"Enter password\")\n",
    "credentials = {'user1': 'abc123','admin':'adminpass','guest':'guest123'}\n",
    "if username in credentials:\n",
    "    if credentials[username] == password:\n",
    "        print(\"login successful\")\n",
    "    else:\n",
    "        print(\"incorrect password\")\n",
    "else:\n",
    "    print(\"user not found\")"
   ]
  },
  {
   "cell_type": "code",
   "execution_count": 5,
   "id": "ceb89014",
   "metadata": {},
   "outputs": [
    {
     "name": "stdout",
     "output_type": "stream",
     "text": [
      "* \n",
      "* * \n",
      "* * * \n",
      "* * * * \n",
      "* * * * * \n"
     ]
    }
   ],
   "source": [
    "rows  = 5\n",
    "for i in range(1, rows+1):\n",
    "    for j in range(i):\n",
    "        print(\"*\",end=\" \")\n",
    "    print()\n",
    "     "
   ]
  },
  {
   "cell_type": "code",
   "execution_count": 41,
   "id": "7d2e18ef",
   "metadata": {},
   "outputs": [
    {
     "ename": "TypeError",
     "evalue": "'int' object is not callable",
     "output_type": "error",
     "traceback": [
      "\u001b[1;31m---------------------------------------------------------------------------\u001b[0m",
      "\u001b[1;31mTypeError\u001b[0m                                 Traceback (most recent call last)",
      "Cell \u001b[1;32mIn[41], line 9\u001b[0m\n\u001b[0;32m      7\u001b[0m     \u001b[38;5;28;01mbreak\u001b[39;00m\n\u001b[0;32m      8\u001b[0m \u001b[38;5;28;01melse\u001b[39;00m:\n\u001b[1;32m----> 9\u001b[0m     \u001b[38;5;28;43mprint\u001b[39;49m\u001b[43m(\u001b[49m\u001b[38;5;124;43m\"\u001b[39;49m\u001b[38;5;124;43madd price\u001b[39;49m\u001b[38;5;124;43m\"\u001b[39;49m\u001b[43m)\u001b[49m\n",
      "\u001b[1;31mTypeError\u001b[0m: 'int' object is not callable"
     ]
    }
   ],
   "source": [
    "total_bill = 0\n",
    "while True:\n",
    "    price = (int(input(\"Enter the price of item: \")))\n",
    "    total_bill+=price\n",
    "    if total_bill >= 1000:\n",
    "        print(\"limit is reached. You cannot buy anymore\") \n",
    "        break\n",
    "    else:\n",
    "        print(\"add price\")"
   ]
  }
 ],
 "metadata": {
  "kernelspec": {
   "display_name": "Python 3",
   "language": "python",
   "name": "python3"
  },
  "language_info": {
   "codemirror_mode": {
    "name": "ipython",
    "version": 3
   },
   "file_extension": ".py",
   "mimetype": "text/x-python",
   "name": "python",
   "nbconvert_exporter": "python",
   "pygments_lexer": "ipython3",
   "version": "3.12.6"
  }
 },
 "nbformat": 4,
 "nbformat_minor": 5
}
